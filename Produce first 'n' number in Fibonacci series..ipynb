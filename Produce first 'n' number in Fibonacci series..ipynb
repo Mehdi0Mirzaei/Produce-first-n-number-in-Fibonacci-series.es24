{
 "cells": [
  {
   "cell_type": "code",
   "execution_count": 1,
   "id": "bee59930",
   "metadata": {},
   "outputs": [
    {
     "name": "stdout",
     "output_type": "stream",
     "text": [
      "How many terms? 5\n",
      "Fibonacci sequence : \n",
      "1\n",
      "1\n",
      "2\n",
      "3\n",
      "5\n"
     ]
    }
   ],
   "source": [
    "n_terms=int(input(\"How many terms? \"))\n",
    "n_1,n_2=1,1\n",
    "count=0\n",
    "if n_terms<=0:\n",
    "    print(\"Please enter a psitive integer bigger than zero!\")\n",
    "elif n_terms==1:\n",
    "    print(\"Fibonacci sequence\",n_terms,\":\")\n",
    "    print(n_1)\n",
    "else:\n",
    "    print(\"Fibonacci sequence : \")\n",
    "    while count < n_terms:\n",
    "        print(n_1)\n",
    "        nth=n_1+n_2\n",
    "        n_1=n_2\n",
    "        n_2=nth\n",
    "        count+=1"
   ]
  },
  {
   "cell_type": "code",
   "execution_count": 2,
   "id": "2651ab44",
   "metadata": {},
   "outputs": [
    {
     "name": "stdout",
     "output_type": "stream",
     "text": [
      "Enter the number of Fibonacci numbers you want: 5\n",
      "The first 5 numbers in the Fibonacci series are:\n",
      "[0, 1, 1, 2, 3]\n"
     ]
    }
   ],
   "source": [
    "def fibonacci_series(n):\n",
    "    series = []\n",
    "    a, b = 0, 1\n",
    "    \n",
    "    for _ in range(n):\n",
    "        series.append(a)\n",
    "        a, b = b, a + b\n",
    "        \n",
    "    return series\n",
    "\n",
    "n = int(input(\"Enter the number of Fibonacci numbers you want: \"))\n",
    "fib_series = fibonacci_series(n)\n",
    "print(f\"The first {n} numbers in the Fibonacci series are:\")\n",
    "print(fib_series)\n"
   ]
  },
  {
   "cell_type": "code",
   "execution_count": 4,
   "id": "36ab3756",
   "metadata": {},
   "outputs": [
    {
     "name": "stdout",
     "output_type": "stream",
     "text": [
      "How many terms? 5\n",
      "Fibonacci sequence : \n",
      "1\n",
      "1\n",
      "2\n",
      "3\n",
      "5\n"
     ]
    }
   ],
   "source": [
    "def fibonacci_series(n):\n",
    "    n_1,n_2=1,1\n",
    "    count=0\n",
    "    if n_terms<=0:\n",
    "        print(\"Please enter a psitive integer bigger than zero!\")\n",
    "    elif n_terms==1:\n",
    "        print(\"Fibonacci sequence\",n_terms,\":\")\n",
    "        print(n_1)\n",
    "    else:\n",
    "        print(\"Fibonacci sequence : \")\n",
    "        while count < n_terms:\n",
    "            print(n_1)\n",
    "            nth=n_1+n_2\n",
    "            n_1=n_2\n",
    "            n_2=nth\n",
    "            count+=1\n",
    "n_terms=int(input(\"How many terms? \"))\n",
    "fibonacci_series(n)"
   ]
  }
 ],
 "metadata": {
  "kernelspec": {
   "display_name": "Python 3 (ipykernel)",
   "language": "python",
   "name": "python3"
  },
  "language_info": {
   "codemirror_mode": {
    "name": "ipython",
    "version": 3
   },
   "file_extension": ".py",
   "mimetype": "text/x-python",
   "name": "python",
   "nbconvert_exporter": "python",
   "pygments_lexer": "ipython3",
   "version": "3.9.17"
  }
 },
 "nbformat": 4,
 "nbformat_minor": 5
}
